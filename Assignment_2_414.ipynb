{
 "cells": [
  {
   "cell_type": "code",
   "execution_count": 21,
   "metadata": {},
   "outputs": [],
   "source": [
    "import requests \n",
    "import networkx as nx \n",
    "import matplotlib.pyplot as plt \n",
    "import json\n",
    "\n",
    "\n",
    "api_url = \"https://api.yelp.com/v3/businesses/search?term=restaurants&location=Baltimore, Maryland\"\n",
    "\n",
    "\n",
    "api_key = \"ZcfYr4XdQ33V_exQ9ITM5AmqiWdkRVF_w_4upCtaFQblvgVZnjvNf8djhU5nnE2IuaJR0iVbfLt4-1lDZwkya7Z5kZCdFHtCu_PAKDqbPI4gsi1EUHigy-ZtS1MXZXYx\"\n",
    "\n",
    "endpoint = \"https://api.yelp.com/v3/businesses/search\"\n",
    "\n",
    "HEADERS = {'Authorization': 'bearer %s' % api_key}\n",
    "\n",
    "parameters = {\n",
    "                'term': 'asian',\n",
    "                'location': 'Baltimore',\n",
    "                'limit': 10\n",
    "\n",
    "             }\n",
    "\n",
    "response = requests.get(url = endpoint,\n",
    "                        params = parameters,\n",
    "                        headers = HEADERS)\n",
    "\n",
    "business_data = response.json()\n",
    "\n",
    "f = open('.\\\\inst414\\\\yelp.txt', 'w')\n",
    "f.write(json.dumps(business_data, indent = 3))\n",
    "f.close()\n",
    "\n"
   ]
  },
  {
   "cell_type": "code",
   "execution_count": null,
   "metadata": {},
   "outputs": [],
   "source": []
  }
 ],
 "metadata": {
  "kernelspec": {
   "display_name": "Python 3",
   "language": "python",
   "name": "python3"
  },
  "language_info": {
   "codemirror_mode": {
    "name": "ipython",
    "version": 3
   },
   "file_extension": ".py",
   "mimetype": "text/x-python",
   "name": "python",
   "nbconvert_exporter": "python",
   "pygments_lexer": "ipython3",
   "version": "3.9.10"
  },
  "orig_nbformat": 4
 },
 "nbformat": 4,
 "nbformat_minor": 2
}
