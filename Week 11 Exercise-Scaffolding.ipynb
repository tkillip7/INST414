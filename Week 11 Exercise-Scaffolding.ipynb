{
 "cells": [
  {
   "cell_type": "markdown",
   "id": "fc409670",
   "metadata": {},
   "source": [
    "# Determine Movie Genre by Neighboring Movies\n",
    "\n",
    "Using the k-nearest neighbors method, use the top-k most similar movies to a target film to predict the target movie's genre.\n",
    "\n",
    "Use Jaccard similarity based on actors in each movie to rank movies and select the top-k most similar movies."
   ]
  },
  {
   "cell_type": "code",
   "execution_count": 19,
   "id": "47d80463",
   "metadata": {},
   "outputs": [],
   "source": [
    "import json\n",
    "\n",
    "import pandas as pd\n",
    "import numpy as np\n",
    "\n",
    "from scipy.sparse import lil_matrix\n",
    "\n",
    "import matplotlib.pyplot as plt\n"
   ]
  },
  {
   "cell_type": "code",
   "execution_count": 20,
   "id": "09e36e97",
   "metadata": {},
   "outputs": [],
   "source": [
    "actor_name_map = {}\n",
    "movie_actor_map = {}\n",
    "actor_genre_map = {}\n",
    "\n",
    "\n",
    "with open(\"imdb_movies_2000to2022.prolific.json\", \"r\") as in_file:\n",
    "    for line in in_file:\n",
    "        \n",
    "        # Read the movie on this line and parse its json\n",
    "        this_movie = json.loads(line)\n",
    "        \n",
    "        # Skip movies with no ratings\n",
    "        if len(this_movie[\"rating\"]) == 0:\n",
    "            continue\n",
    "                    \n",
    "        # Add all actors to the id->name map\n",
    "        for actor_id,actor_name in this_movie['actors']:\n",
    "            actor_name_map[actor_id] = actor_name\n",
    "            \n",
    "        # For each actor, add this movie's genres to that actor's list\n",
    "        for actor_id,actor_name in this_movie['actors']:\n",
    "            this_actors_genres = actor_genre_map.get(actor_id, {})\n",
    "            \n",
    "            # Increment the count of genres for this actor\n",
    "            for g in this_movie[\"genres\"]:\n",
    "                this_actors_genres[g] = this_actors_genres.get(g, 0) + 1\n",
    "                \n",
    "            # Update the map\n",
    "            actor_genre_map[actor_id] = this_actors_genres\n",
    "            \n",
    "        # Finished with this film\n",
    "        movie_actor_map[this_movie[\"imdb_id\"]] = ({\n",
    "            \"movie\": this_movie[\"title\"],\n",
    "            \"actors\": set([item[0] for item in this_movie['actors']]),\n",
    "            \"genres\": this_movie[\"genres\"],\n",
    "            \"rating\": this_movie[\"rating\"][\"avg\"]\n",
    "        })"
   ]
  },
  {
   "cell_type": "code",
   "execution_count": 21,
   "id": "2ecd8139",
   "metadata": {},
   "outputs": [
    {
     "name": "stdout",
     "output_type": "stream",
     "text": [
      "Known Actors: 29499\n",
      "Known Movies: 18841\n"
     ]
    }
   ],
   "source": [
    "print(\"Known Actors:\", len(actor_name_map))\n",
    "print(\"Known Movies:\", len(movie_actor_map))"
   ]
  },
  {
   "cell_type": "code",
   "execution_count": 22,
   "id": "07d6abab",
   "metadata": {},
   "outputs": [],
   "source": [
    "actor_id_to_index = {actor_id:i for i,actor_id in enumerate(actor_name_map.keys())}\n"
   ]
  },
  {
   "cell_type": "code",
   "execution_count": null,
   "id": "d8bb7a58",
   "metadata": {},
   "outputs": [],
   "source": []
  },
  {
   "cell_type": "code",
   "execution_count": 23,
   "id": "400cc127",
   "metadata": {},
   "outputs": [],
   "source": [
    "target_movie_id = \"tt0317705\" # The Incredibles\n",
    "# target_movie_id = \"tt0816692\" # Interstellar\n",
    "# target_movie_id = \"tt0332280\" # The Notebook"
   ]
  },
  {
   "cell_type": "code",
   "execution_count": 24,
   "id": "bf3351f5",
   "metadata": {},
   "outputs": [],
   "source": [
    "target_movie_object = movie_actor_map[target_movie_id]"
   ]
  },
  {
   "cell_type": "code",
   "execution_count": 25,
   "id": "b6c153ae",
   "metadata": {},
   "outputs": [
    {
     "data": {
      "text/plain": [
       "{'movie': 'The Incredibles',\n",
       " 'actors': {'nm0000168', 'nm0000456', 'nm0005134', 'nm0005266'},\n",
       " 'genres': ['Action', 'Adventure', 'Animation'],\n",
       " 'rating': 8.0}"
      ]
     },
     "execution_count": 25,
     "metadata": {},
     "output_type": "execute_result"
    }
   ],
   "source": [
    "target_movie_object"
   ]
  },
  {
   "cell_type": "markdown",
   "id": "83f5df0c",
   "metadata": {},
   "source": [
    "## Find the Most Similar Movies by Jaccard Similarity in Actor"
   ]
  },
  {
   "cell_type": "code",
   "execution_count": 26,
   "id": "7de6b181",
   "metadata": {},
   "outputs": [],
   "source": [
    "movie_similarities = []\n",
    "\n",
    "for this_movie_id,this_movie_obj in movie_actor_map.items():\n",
    "    # Skip the target movie\n",
    "    if this_movie_id == target_movie_id:\n",
    "        continue\n",
    "        \n",
    "    this_intersect = this_movie_obj[\"actors\"].intersection(target_movie_object[\"actors\"])\n",
    "    this_union = this_movie_obj[\"actors\"].union(target_movie_object[\"actors\"])\n",
    "    \n",
    "    jaccard = len(this_intersect) / len(this_union)\n",
    "    \n",
    "    # Add this movie and its Jaccard similarity to the list, so we can rank at the end\n",
    "    movie_similarities.append({\n",
    "        \"movie\": this_movie_id,\n",
    "        \"jaccard\": jaccard,\n",
    "    })"
   ]
  },
  {
   "cell_type": "code",
   "execution_count": 27,
   "id": "da0bb805",
   "metadata": {},
   "outputs": [],
   "source": [
    "similarity_df = pd.DataFrame(movie_similarities, columns=[\"movie\", \"jaccard\"])"
   ]
  },
  {
   "cell_type": "code",
   "execution_count": null,
   "id": "1d0beaf2",
   "metadata": {},
   "outputs": [],
   "source": []
  },
  {
   "cell_type": "markdown",
   "id": "36fb3faf",
   "metadata": {},
   "source": [
    "## Use the top-k similar movies to infer genre"
   ]
  },
  {
   "cell_type": "code",
   "execution_count": 28,
   "id": "ba9bf8af",
   "metadata": {},
   "outputs": [],
   "source": [
    "k_nn = 1"
   ]
  },
  {
   "cell_type": "code",
   "execution_count": 29,
   "id": "e830fcfc",
   "metadata": {},
   "outputs": [
    {
     "data": {
      "text/html": [
       "<div>\n",
       "<style scoped>\n",
       "    .dataframe tbody tr th:only-of-type {\n",
       "        vertical-align: middle;\n",
       "    }\n",
       "\n",
       "    .dataframe tbody tr th {\n",
       "        vertical-align: top;\n",
       "    }\n",
       "\n",
       "    .dataframe thead th {\n",
       "        text-align: right;\n",
       "    }\n",
       "</style>\n",
       "<table border=\"1\" class=\"dataframe\">\n",
       "  <thead>\n",
       "    <tr style=\"text-align: right;\">\n",
       "      <th></th>\n",
       "      <th>movie</th>\n",
       "      <th>jaccard</th>\n",
       "    </tr>\n",
       "  </thead>\n",
       "  <tbody>\n",
       "    <tr>\n",
       "      <th>13851</th>\n",
       "      <td>tt3606756</td>\n",
       "      <td>0.333333</td>\n",
       "    </tr>\n",
       "  </tbody>\n",
       "</table>\n",
       "</div>"
      ],
      "text/plain": [
       "           movie   jaccard\n",
       "13851  tt3606756  0.333333"
      ]
     },
     "execution_count": 29,
     "metadata": {},
     "output_type": "execute_result"
    }
   ],
   "source": [
    "similarity_df.sort_values(by=\"jaccard\", ascending=False).head(k_nn)"
   ]
  },
  {
   "cell_type": "code",
   "execution_count": 30,
   "id": "feb58259",
   "metadata": {},
   "outputs": [
    {
     "name": "stdout",
     "output_type": "stream",
     "text": [
      "tt3606756 Incredibles 2\n",
      "\t ['Action', 'Adventure', 'Animation']\n"
     ]
    }
   ],
   "source": [
    "top_movies = similarity_df.sort_values(by=\"jaccard\", ascending=False).head(k_nn)\n",
    "\n",
    "relevant_genre_count = {}\n",
    "\n",
    "for this_movie_id in top_movies[\"movie\"]:\n",
    "    print(this_movie_id, movie_actor_map[this_movie_id][\"movie\"])\n",
    "    print(\"\\t\", movie_actor_map[this_movie_id][\"genres\"])\n",
    "    \n",
    "    this_movie_genres = movie_actor_map[this_movie_id][\"genres\"]\n",
    "    for g in this_movie_genres:\n",
    "        relevant_genre_count[g] = relevant_genre_count.get(g,0) + 1\n",
    "        "
   ]
  },
  {
   "cell_type": "code",
   "execution_count": 31,
   "id": "1b76ba9d",
   "metadata": {},
   "outputs": [
    {
     "data": {
      "text/plain": [
       "{'imdb_id': 'tt9907608',\n",
       " 'title': 'Footloose in the Cotswolds: Part 2',\n",
       " 'year': '2016',\n",
       " 'runtime': '102',\n",
       " 'genres': ['Documentary'],\n",
       " 'actors': [['nm1644256', 'Debra Rixon']],\n",
       " 'rating': []}"
      ]
     },
     "execution_count": 31,
     "metadata": {},
     "output_type": "execute_result"
    }
   ],
   "source": [
    "this_movie"
   ]
  },
  {
   "cell_type": "code",
   "execution_count": 32,
   "id": "eb698ae2",
   "metadata": {},
   "outputs": [
    {
     "name": "stdout",
     "output_type": "stream",
     "text": [
      "Action 1\n",
      "Adventure 1\n",
      "Animation 1\n"
     ]
    }
   ],
   "source": [
    "for g in sorted(relevant_genre_count, key=relevant_genre_count.get, reverse=True):\n",
    "    print(g, relevant_genre_count[g])"
   ]
  },
  {
   "cell_type": "markdown",
   "id": "a320b769",
   "metadata": {},
   "source": [
    "## Use the top-k similar movies to infer rating"
   ]
  },
  {
   "cell_type": "code",
   "execution_count": 33,
   "id": "f20c71a4",
   "metadata": {},
   "outputs": [
    {
     "name": "stdout",
     "output_type": "stream",
     "text": [
      "tt3606756 Incredibles 2\n",
      "\t 7.6\n"
     ]
    }
   ],
   "source": [
    "top_movies = similarity_df.sort_values(by=\"jaccard\", ascending=False).head(k_nn)\n",
    "\n",
    "relevant_ratings = []\n",
    "for this_movie_id in top_movies[\"movie\"]:\n",
    "    print(this_movie_id, movie_actor_map[this_movie_id][\"movie\"])\n",
    "    print(\"\\t\", movie_actor_map[this_movie_id][\"rating\"])\n",
    "    \n",
    "    relevant_ratings.append(movie_actor_map[this_movie_id][\"rating\"])"
   ]
  },
  {
   "cell_type": "code",
   "execution_count": 34,
   "id": "a99b4bce",
   "metadata": {},
   "outputs": [
    {
     "name": "stdout",
     "output_type": "stream",
     "text": [
      "Actual Rating: 8.0\n",
      "Predicted Rating: 7.6\n"
     ]
    }
   ],
   "source": [
    "print(\"Actual Rating:\", target_movie_object[\"rating\"])\n",
    "print(\"Predicted Rating:\", np.mean(relevant_ratings))"
   ]
  }
 ],
 "metadata": {
  "kernelspec": {
   "display_name": "Python 3 (ipykernel)",
   "language": "python",
   "name": "python3"
  },
  "language_info": {
   "codemirror_mode": {
    "name": "ipython",
    "version": 3
   },
   "file_extension": ".py",
   "mimetype": "text/x-python",
   "name": "python",
   "nbconvert_exporter": "python",
   "pygments_lexer": "ipython3",
   "version": "3.9.10"
  }
 },
 "nbformat": 4,
 "nbformat_minor": 5
}
