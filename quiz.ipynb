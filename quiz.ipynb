{
 "cells": [
  {
   "cell_type": "code",
   "execution_count": 8,
   "metadata": {},
   "outputs": [],
   "source": [
    "import os \n",
    "\n",
    "import pandas as pd \n",
    "\n",
    "os.chdir('/Users/trintkillip/Downloads/INST414')"
   ]
  },
  {
   "cell_type": "code",
   "execution_count": 22,
   "metadata": {},
   "outputs": [
    {
     "data": {
      "text/plain": [
       "119.18072975867807"
      ]
     },
     "execution_count": 22,
     "metadata": {},
     "output_type": "execute_result"
    }
   ],
   "source": [
    "\n",
    "\n",
    "df = pd.read_csv('pga_outages_2019.csv', encoding= 'unicode_escape')\n",
    "\n",
    "df.head()\n",
    "\n",
    "new_df = df.groupby('outageNumber').max()[::-1]\n",
    "\n",
    "new_df\n",
    "\n",
    "new_df[\"estCustAffected\"].std()\n"
   ]
  },
  {
   "cell_type": "code",
   "execution_count": 19,
   "metadata": {},
   "outputs": [
    {
     "name": "stderr",
     "output_type": "stream",
     "text": [
      "/var/folders/cv/2cwr92_55nl0tb792zsxzvlw0000gn/T/ipykernel_17210/1151452817.py:1: FutureWarning: Dropping of nuisance columns in DataFrame reductions (with 'numeric_only=None') is deprecated; in a future version this will raise TypeError.  Select only valid columns before calling the reduction.\n",
      "  df.max()\n"
     ]
    },
    {
     "data": {
      "text/plain": [
       "autoEtor                                                  1576683000.0\n",
       "cause                      Unknown - PG&E will be assessing the cause.\n",
       "crewCurrentStatus    PG&E repair crew is on-site working to restore...\n",
       "crewEta                                                   1576670640.0\n",
       "currentEtor                                               1576893600.0\n",
       "estCustAffected                                                    573\n",
       "hazardFlag                                                           3\n",
       "lastUpdateTime                                              1576668355\n",
       "latitude                                                      40.49751\n",
       "longitude                                                   -118.99249\n",
       "outageNumber                                                    745099\n",
       "outageStartTime                                             1576668060\n",
       "regionName                                                      Winton\n",
       "dtype: object"
      ]
     },
     "execution_count": 19,
     "metadata": {},
     "output_type": "execute_result"
    }
   ],
   "source": [
    "df.max()\n",
    "\n",
    "df"
   ]
  },
  {
   "cell_type": "code",
   "execution_count": 6,
   "metadata": {},
   "outputs": [
    {
     "ename": "KeyError",
     "evalue": "1",
     "output_type": "error",
     "traceback": [
      "\u001b[0;31m---------------------------------------------------------------------------\u001b[0m",
      "\u001b[0;31mKeyError\u001b[0m                                  Traceback (most recent call last)",
      "\u001b[1;32m/Users/trintkillip/Downloads/inst414/quiz.ipynb Cell 2\u001b[0m line \u001b[0;36m<module>\u001b[0;34m\u001b[0m\n\u001b[1;32m      <a href='vscode-notebook-cell:/Users/trintkillip/Downloads/inst414/quiz.ipynb#W1sZmlsZQ%3D%3D?line=0'>1</a>\u001b[0m ER_Visits \u001b[39m=\u001b[39m {\u001b[39m\"\u001b[39m\u001b[39mnumber_of_patients\u001b[39m\u001b[39m\"\u001b[39m:[\u001b[39m8\u001b[39m,\u001b[39m11\u001b[39m,\u001b[39m0\u001b[39m,\u001b[39m2\u001b[39m],\u001b[39m\"\u001b[39m\u001b[39mnumber_of_doctors\u001b[39m\u001b[39m\"\u001b[39m:[\u001b[39m0\u001b[39m,\u001b[39m0\u001b[39m,\u001b[39m2\u001b[39m,\u001b[39m1\u001b[39m]}\n\u001b[0;32m----> <a href='vscode-notebook-cell:/Users/trintkillip/Downloads/inst414/quiz.ipynb#W1sZmlsZQ%3D%3D?line=3'>4</a>\u001b[0m ER_Visits[\u001b[39m1\u001b[39;49m]\n",
      "\u001b[0;31mKeyError\u001b[0m: 1"
     ]
    }
   ],
   "source": [
    "ER_Visits = {\"number_of_patients\":[8,11,0,2],\"number_of_doctors\":[0,0,2,1]}\n",
    "\n",
    "\n",
    "ER_Visits[1]"
   ]
  }
 ],
 "metadata": {
  "kernelspec": {
   "display_name": "Python 3",
   "language": "python",
   "name": "python3"
  },
  "language_info": {
   "codemirror_mode": {
    "name": "ipython",
    "version": 3
   },
   "file_extension": ".py",
   "mimetype": "text/x-python",
   "name": "python",
   "nbconvert_exporter": "python",
   "pygments_lexer": "ipython3",
   "version": "3.9.10"
  },
  "orig_nbformat": 4
 },
 "nbformat": 4,
 "nbformat_minor": 2
}
