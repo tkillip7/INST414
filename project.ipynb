{
 "cells": [
  {
   "cell_type": "code",
   "execution_count": 1,
   "metadata": {},
   "outputs": [],
   "source": [
    "#Using the reddit API, we want to find the top submissions about the Info Sci major. Since Info Sci is a relatively new major \n",
    "# major compared to others, students will still have questions about the major. Reddit can be a source of information\n",
    "# directly from students and alumni. We will be scraping through the UMD subreddit to find the top submissions about \n",
    "# Info Sci so students can take a further insight on what the major is like.\n",
    "#\n",
    "\n",
    "import praw\n",
    "reddit = praw.Reddit(client_id=\"PNvujO6UYS7Fg8TiGMW3gw\", client_secret=\"pmnSOaAwg7uRW-C0BESMJLvbM7avjQ\", user_agent=\"assignment_1\")\n"
   ]
  },
  {
   "cell_type": "code",
   "execution_count": null,
   "metadata": {},
   "outputs": [],
   "source": []
  }
 ],
 "metadata": {
  "kernelspec": {
   "display_name": "Python 3",
   "language": "python",
   "name": "python3"
  },
  "language_info": {
   "codemirror_mode": {
    "name": "ipython",
    "version": 3
   },
   "file_extension": ".py",
   "mimetype": "text/x-python",
   "name": "python",
   "nbconvert_exporter": "python",
   "pygments_lexer": "ipython3",
   "version": "3.9.10"
  }
 },
 "nbformat": 4,
 "nbformat_minor": 2
}
